{
 "cells": [
  {
   "cell_type": "markdown",
   "source": [
    "# CS166 Session 6.2 Work\n",
    "\n"
   ],
   "metadata": {
    "collapsed": false
   }
  },
  {
   "cell_type": "markdown",
   "source": [
    "## Review and Concepts"
   ],
   "metadata": {
    "collapsed": false
   }
  },
  {
   "cell_type": "code",
   "execution_count": 40,
   "outputs": [],
   "source": [
    "import numpy as np\n",
    "import matplotlib.pyplot as plt\n",
    "import scipy.stats as sts\n",
    "# four possible outcomes\n",
    "probabilities = [0.1, 0.2, 0.3, 0.4]\n",
    "cumulative_prob = np.cumsum(probabilities)\n",
    "sample = cumulative_prob.searchsorted(np.random.uniform(0, 1))"
   ],
   "metadata": {
    "collapsed": false
   }
  },
  {
   "cell_type": "markdown",
   "source": [
    "The cumsum() method with numpy calculates teh running cumulative sum up to that point. For example, if we were to apply cumsum() to the array [1,2,3]. The calculation happening for the output is [1, 1+2, 1+2+3] --> this means our output is [1, 3, 6]."
   ],
   "metadata": {
    "collapsed": false
   }
  },
  {
   "cell_type": "markdown",
   "source": [
    "The searchsorted() method is one that finds where an element should be inserted in order to maintain the order of the array. It finds the indices in a sorted array such that if another array or value is inserted into the returned indices, it would maintain the order of the original array."
   ],
   "metadata": {
    "collapsed": false
   }
  },
  {
   "cell_type": "markdown",
   "source": [
    "### Question 1 of PC Problems"
   ],
   "metadata": {
    "collapsed": false
   }
  },
  {
   "cell_type": "code",
   "execution_count": 27,
   "outputs": [],
   "source": [
    "#setting overall parameters\n",
    "l = 0.1\n",
    "samples = 1000\n",
    "\n",
    "#arrival times--we use this to create a schedule\n",
    "bus_arrivals = np.random.exponential(1/l, samples)\n",
    "bus_schedule = np.cumsum(bus_arrivals)\n",
    "\n",
    "#the passenger can arrive at any point until the max bus time\n",
    "passenger_arrivals = np.random.uniform(0, max(bus_schedule), samples)\n",
    "\n",
    "#waiting times list\n",
    "wait_times = []\n",
    "\n",
    "for arrival in passenger_arrivals:\n",
    "    #we need to find the closest match in the schedule greater than the passenger arrival\n",
    "    #the wait time will be the difference between the first value greater than the schedule\n",
    "\n",
    "    #creating a bus number for the index when it arrives\n",
    "    bus_num = next(x for x, val in enumerate(bus_schedule) if val > arrival)\n",
    "\n",
    "    #waiting time\n",
    "    wait_time = bus_schedule[bus_num] - arrival\n",
    "    wait_times.append(wait_time)"
   ],
   "metadata": {
    "collapsed": false
   }
  },
  {
   "cell_type": "code",
   "execution_count": 29,
   "outputs": [
    {
     "data": {
      "text/plain": "<matplotlib.legend.Legend at 0x7ff1892ffdf0>"
     },
     "execution_count": 29,
     "metadata": {},
     "output_type": "execute_result"
    },
    {
     "data": {
      "text/plain": "<Figure size 640x480 with 1 Axes>",
      "image/png": "[encoded data removed]"
     },
     "metadata": {},
     "output_type": "display_data"
    }
   ],
   "source": [
    "plt.hist(wait_times)\n",
    "plt.axvline(np.mean(wait_times), color = 'lightgreen', label = 'mean wait time of ' + str(round(np.mean(wait_times), 2)))\n",
    "plt.legend()"
   ],
   "metadata": {
    "collapsed": false
   }
  },
  {
   "cell_type": "code",
   "execution_count": 19,
   "outputs": [],
   "source": [
    "#setting overall parameters\n",
    "l = 10\n",
    "samples = 1000\n",
    "\n",
    "#arrival times--we use this to create a schedule\n",
    "bus_arrivals = np.random.uniform(0, 2*l, samples)\n",
    "bus_schedule = np.cumsum(bus_arrivals)\n",
    "\n",
    "#the passenger can arrive at any point until the max bus time\n",
    "passenger_arrivals = np.random.uniform(0, max(bus_schedule), samples)\n",
    "\n",
    "#waiting times list\n",
    "wait_times = []\n",
    "\n",
    "for arrival in passenger_arrivals:\n",
    "    #we need to find the closest match in the schedule greater than the passenger arrival\n",
    "    #the wait time will be the difference between the first value greater than the schedule\n",
    "\n",
    "    #creating a bus number for the index when it arrives\n",
    "    bus_num = next(x for x, val in enumerate(bus_schedule) if val > arrival)\n",
    "\n",
    "    #waiting time\n",
    "    wait_time = bus_schedule[bus_num] - arrival\n",
    "    wait_times.append(wait_time)"
   ],
   "metadata": {
    "collapsed": false
   }
  },
  {
   "cell_type": "code",
   "execution_count": 30,
   "outputs": [
    {
     "data": {
      "text/plain": "<matplotlib.legend.Legend at 0x7ff18930f4c0>"
     },
     "execution_count": 30,
     "metadata": {},
     "output_type": "execute_result"
    },
    {
     "data": {
      "text/plain": "<Figure size 640x480 with 1 Axes>",
      "image/png": "[encoded data removed]"
     },
     "metadata": {},
     "output_type": "display_data"
    }
   ],
   "source": [
    "plt.hist(wait_times)\n",
    "plt.axvline(np.mean(wait_times), color = 'darkgreen', label = 'mean wait time of ' + str(round(np.mean(wait_times), 2)))\n",
    "plt.legend()"
   ],
   "metadata": {
    "collapsed": false
   }
  },
  {
   "cell_type": "markdown",
   "source": [
    "The method used to simulate this scenario was in the creation of a set of bus interarrival times and then using the interarrival times to generate a schedule by using the cumulative sum method. Then, each passenger was simulated using the predefined uniform distribution ranging from the first bus of the day until the last bus. The bus_num was used to find the first bus arrival time greater than the passenger arrival time and then the difference was subsequently calculated to generate the wait time. We see that in the original scenario with an exponential distribution, the output of waiting times abides by a similar exponential distribution. However, we see a different pattern with a descending time distribution when using the $2 \\cdot \\lambda$ approach in the second scenario."
   ],
   "metadata": {
    "collapsed": false
   }
  },
  {
   "cell_type": "markdown",
   "source": [
    "### Question 2"
   ],
   "metadata": {
    "collapsed": false
   }
  },
  {
   "cell_type": "code",
   "execution_count": 54,
   "outputs": [],
   "source": [
    "data = {\n",
    "    50: 0.00832, 51: 0.00911, 52: 0.00996, 53: 0.01089, 54: 0.01190,\n",
    "    55: 0.01300, 56: 0.01421, 57: 0.01554, 58: 0.01700, 59: 0.01859,\n",
    "    60: 0.02034, 61: 0.02224, 62: 0.02431, 63: 0.02657, 64: 0.02904,\n",
    "    65: 0.03175, 66: 0.03474, 67: 0.03804, 68: 0.04168, 69: 0.04561,\n",
    "    70: 0.04979, 71: 0.05415, 72: 0.05865, 73: 0.06326, 74: 0.06812,\n",
    "    75: 0.07337, 76: 0.07918, 77: 0.08570, 78: 0.09306, 79: 0.10119,\n",
    "    80: 0.10998, 81: 0.11935, 82: 0.12917, 83: 0.13938, 84: 0.15001,\n",
    "    85: 0.16114, 86: 0.17282, 87: 0.18513, 88: 0.19825, 89: 0.21246,\n",
    "    90: 0.22814, 91: 0.24577, 92: 0.26593, 93: 0.28930, 94: 0.31666,\n",
    "    95: 0.35124, 96: 0.40056, 97: 0.48842, 98: 0.66815, 99: 0.72000,\n",
    "    100: 0.76000, 101: 0.80000, 102: 0.85000, 103: 0.90000,\n",
    "    104: 0.96000, 105: 1.00000}"
   ],
   "metadata": {
    "collapsed": false
   }
  },
  {
   "cell_type": "code",
   "execution_count": 84,
   "outputs": [],
   "source": [
    "#simulation parameters\n",
    "samples = 1000\n",
    "\n",
    "#starting parameters\n",
    "portfolio = 150000\n",
    "\n",
    "#parameters of returns per year\n",
    "mu = 0.08\n",
    "std = 0.09\n",
    "\n",
    "#at retirement\n",
    "retire_age = 70\n",
    "retire_withdrawal = 65000\n",
    "\n",
    "money_at_death = []\n",
    "broke = 0\n",
    "age_of_death = []\n",
    "\n",
    "#since FM is guarantees to die at age 105, we can backtrack off of this\n",
    "for sample in range(samples):\n",
    "\n",
    "    #creating a portfolio value\n",
    "    net_worth = [portfolio]\n",
    "\n",
    "    #first we will loop through her age\n",
    "    for age in range(50, 106):\n",
    "\n",
    "        #let's check if she's dead\n",
    "        if sts.bernoulli.rvs(data[age]) == 1:\n",
    "            money_at_death.append(net_worth[-1])\n",
    "            age_of_death.append(age)\n",
    "            break\n",
    "\n",
    "        #if she's not dead and less than 70\n",
    "        elif age <= 70:\n",
    "            #calculating the net return\n",
    "            net_return = np.random.normal(mu, std)\n",
    "\n",
    "            #adding to fannie Mae's net worth based on returns and $10k added\n",
    "            net_worth.append((net_worth[-1] + 10000) * (1 + net_return))\n",
    "\n",
    "        #if she's not dead above 70\n",
    "        elif age > 70:\n",
    "            net_return = np.random.normal(mu, std)\n",
    "\n",
    "            #adding to fannie Mae's net worth based on returns and $65k removed\n",
    "            temp_net_worth = net_worth[-1] - 65000\n",
    "\n",
    "            #if she's not broke\n",
    "            if temp_net_worth > 0:\n",
    "                net_worth.append(temp_net_worth * (1 + net_return))\n",
    "\n",
    "            elif temp_net_worth <= 0:\n",
    "                broke += 1\n",
    "\n",
    "    #creating a line plot to test net worth\n",
    "    #plt.plot(net_worth)\n",
    "\n"
   ],
   "metadata": {
    "collapsed": false
   }
  },
  {
   "cell_type": "code",
   "execution_count": 74,
   "outputs": [
    {
     "data": {
      "text/plain": "(array([851., 122.,  18.,   5.,   0.,   2.,   1.,   0.,   0.,   1.]),\n array([1.79937356e+03, 2.27713272e+06, 4.55246607e+06, 6.82779941e+06,\n        9.10313276e+06, 1.13784661e+07, 1.36537994e+07, 1.59291328e+07,\n        1.82044661e+07, 2.04797995e+07, 2.27551328e+07]),\n <BarContainer object of 10 artists>)"
     },
     "execution_count": 74,
     "metadata": {},
     "output_type": "execute_result"
    },
    {
     "data": {
      "text/plain": "<Figure size 640x480 with 1 Axes>",
      "image/png": "[encoded data removed]"
     },
     "metadata": {},
     "output_type": "display_data"
    }
   ],
   "source": [
    "plt.hist(money_at_death)"
   ],
   "metadata": {
    "collapsed": false
   }
  },
  {
   "cell_type": "code",
   "execution_count": 87,
   "outputs": [
    {
     "name": "stdout",
     "output_type": "stream",
     "text": [
      "Prob of running out of money:  0.079\n",
      "Expected age at death:  73.721\n",
      "Median age of death:  74.0\n"
     ]
    }
   ],
   "source": [
    "#probability of running out of money\n",
    "print('Prob of running out of money: ', broke/samples)\n",
    "print('Expected age at death: ', np.mean(age_of_death))\n",
    "print('Median age of death: ', np.median(age_of_death))\n",
    "\n"
   ],
   "metadata": {
    "collapsed": false
   }
  },
  {
   "cell_type": "markdown",
   "source": [
    "This was a fun simulation. Now, what I would want to do is add in the complication of bankruptcy risk and borrowing costs. It would be fun if when she ran out of money, we had to go to the bank and borrow 100000 at a 6% interest rate. The $65000 would be used for living expenses and the remaining would be reinvested. We can then calculate the net worth as a negative amount with compounding interest and then include a risk of default in the case that the money isn't recouped. The interest rate for the next loan can also be increased when she has to borrow repeatedly. In addition, we could also calculate asset seizure and what happens when she sells off her house or the risk of foreclosure in that scenario. The numbers seem fairly self-explanatory, compound interest is great folks! SO MUCH FUN!"
   ],
   "metadata": {
    "collapsed": false
   }
  },
  {
   "cell_type": "code",
   "execution_count": null,
   "outputs": [],
   "source": [],
   "metadata": {
    "collapsed": false
   }
  }
 ],
 "metadata": {
  "kernelspec": {
   "display_name": "Python 3",
   "language": "python",
   "name": "python3"
  },
  "language_info": {
   "codemirror_mode": {
    "name": "ipython",
    "version": 2
   },
   "file_extension": ".py",
   "mimetype": "text/x-python",
   "name": "python",
   "nbconvert_exporter": "python",
   "pygments_lexer": "ipython2",
   "version": "2.7.6"
  }
 },
 "nbformat": 4,
 "nbformat_minor": 0
}
